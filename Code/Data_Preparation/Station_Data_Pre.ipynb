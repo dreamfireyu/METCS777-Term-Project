{
 "cells": [
  {
   "cell_type": "code",
   "execution_count": 1,
   "metadata": {},
   "outputs": [
    {
     "name": "stdout",
     "output_type": "stream",
     "text": [
      "<class 'pandas.core.frame.DataFrame'>\n",
      "RangeIndex: 3412875 entries, 0 to 3412874\n",
      "Data columns (total 16 columns):\n",
      " #   Column                Dtype  \n",
      "---  ------                -----  \n",
      " 0   station_id            int64  \n",
      " 1   Net_Flow              int64  \n",
      " 2   Split_hour            int64  \n",
      " 3   is_holiday            bool   \n",
      " 4   feels_like            float64\n",
      " 5   weather_Clear         int64  \n",
      " 6   weather_Clouds        int64  \n",
      " 7   weather_Drizzle       int64  \n",
      " 8   weather_Fog           int64  \n",
      " 9   weather_Haze          int64  \n",
      " 10  weather_Mist          int64  \n",
      " 11  weather_Rain          int64  \n",
      " 12  weather_Smoke         int64  \n",
      " 13  weather_Snow          int64  \n",
      " 14  weather_Thunderstorm  int64  \n",
      " 15  day_of_week           int64  \n",
      "dtypes: bool(1), float64(1), int64(14)\n",
      "memory usage: 393.8 MB\n"
     ]
    }
   ],
   "source": [
    "import numpy as np\n",
    "import pandas as pd\n",
    "data_df = pd.read_csv('Merged_Data_202101_202303_v3.csv')\n",
    "data_df = data_df.iloc[: , 1:]\n",
    "data_df.info()"
   ]
  },
  {
   "cell_type": "code",
   "execution_count": 7,
   "metadata": {},
   "outputs": [
    {
     "name": "stdout",
     "output_type": "stream",
     "text": [
      "<class 'pandas.core.frame.DataFrame'>\n",
      "RangeIndex: 7183977 entries, 0 to 7183976\n",
      "Data columns (total 15 columns):\n",
      " #   Column                   Dtype  \n",
      "---  ------                   -----  \n",
      " 0   Unnamed: 0               int64  \n",
      " 1   tripduration             int64  \n",
      " 2   starttime                object \n",
      " 3   stoptime                 object \n",
      " 4   start station id         int64  \n",
      " 5   start station name       object \n",
      " 6   start station latitude   float64\n",
      " 7   start station longitude  float64\n",
      " 8   end station id           int64  \n",
      " 9   end station name         object \n",
      " 10  end station latitude     float64\n",
      " 11  end station longitude    float64\n",
      " 12  bikeid                   int64  \n",
      " 13  usertype                 object \n",
      " 14  postal code              object \n",
      "dtypes: float64(4), int64(5), object(6)\n",
      "memory usage: 822.1+ MB\n"
     ]
    }
   ],
   "source": [
    "raw_df = pd.read_csv('BikeData_202101_202303.csv')\n",
    "raw_df.info()"
   ]
  },
  {
   "cell_type": "code",
   "execution_count": 38,
   "metadata": {},
   "outputs": [
    {
     "data": {
      "text/html": [
       "<div>\n",
       "<style scoped>\n",
       "    .dataframe tbody tr th:only-of-type {\n",
       "        vertical-align: middle;\n",
       "    }\n",
       "\n",
       "    .dataframe tbody tr th {\n",
       "        vertical-align: top;\n",
       "    }\n",
       "\n",
       "    .dataframe thead th {\n",
       "        text-align: right;\n",
       "    }\n",
       "</style>\n",
       "<table border=\"1\" class=\"dataframe\">\n",
       "  <thead>\n",
       "    <tr style=\"text-align: right;\">\n",
       "      <th></th>\n",
       "      <th>Number</th>\n",
       "      <th>Name</th>\n",
       "      <th>Lat</th>\n",
       "      <th>Long</th>\n",
       "      <th>Seasonal Status</th>\n",
       "      <th>Municipality</th>\n",
       "      <th>Total Docks</th>\n",
       "    </tr>\n",
       "  </thead>\n",
       "  <tbody>\n",
       "    <tr>\n",
       "      <th>2</th>\n",
       "      <td>L32001</td>\n",
       "      <td>Railroad Lot and Minuteman Bikeway</td>\n",
       "      <td>42.416065</td>\n",
       "      <td>-71.153366</td>\n",
       "      <td>Year Round</td>\n",
       "      <td>Arlington</td>\n",
       "      <td>11</td>\n",
       "    </tr>\n",
       "    <tr>\n",
       "      <th>3</th>\n",
       "      <td>L32002</td>\n",
       "      <td>Linwood St at Minuteman Bikeway</td>\n",
       "      <td>42.409354</td>\n",
       "      <td>-71.149065</td>\n",
       "      <td>Year Round</td>\n",
       "      <td>Arlington</td>\n",
       "      <td>11</td>\n",
       "    </tr>\n",
       "    <tr>\n",
       "      <th>4</th>\n",
       "      <td>L32005</td>\n",
       "      <td>Thorndike Field at Minuteman Bikeway</td>\n",
       "      <td>42.400168</td>\n",
       "      <td>-71.144570</td>\n",
       "      <td>Year Round</td>\n",
       "      <td>Arlington</td>\n",
       "      <td>11</td>\n",
       "    </tr>\n",
       "    <tr>\n",
       "      <th>5</th>\n",
       "      <td>L32003</td>\n",
       "      <td>Mass Ave at Grafton St</td>\n",
       "      <td>42.407261</td>\n",
       "      <td>-71.143821</td>\n",
       "      <td>Winter Storage</td>\n",
       "      <td>Arlington</td>\n",
       "      <td>11</td>\n",
       "    </tr>\n",
       "    <tr>\n",
       "      <th>6</th>\n",
       "      <td>L32004</td>\n",
       "      <td>Broadway at Grafton St</td>\n",
       "      <td>42.409942</td>\n",
       "      <td>-71.140093</td>\n",
       "      <td>Winter Storage</td>\n",
       "      <td>Arlington</td>\n",
       "      <td>11</td>\n",
       "    </tr>\n",
       "  </tbody>\n",
       "</table>\n",
       "</div>"
      ],
      "text/plain": [
       "   Number                                  Name        Lat       Long  \\\n",
       "2  L32001    Railroad Lot and Minuteman Bikeway  42.416065 -71.153366   \n",
       "3  L32002       Linwood St at Minuteman Bikeway  42.409354 -71.149065   \n",
       "4  L32005  Thorndike Field at Minuteman Bikeway  42.400168 -71.144570   \n",
       "5  L32003                Mass Ave at Grafton St  42.407261 -71.143821   \n",
       "6  L32004                Broadway at Grafton St  42.409942 -71.140093   \n",
       "\n",
       "  Seasonal Status Municipality Total Docks  \n",
       "2      Year Round    Arlington          11  \n",
       "3      Year Round    Arlington          11  \n",
       "4      Year Round    Arlington          11  \n",
       "5  Winter Storage    Arlington          11  \n",
       "6  Winter Storage    Arlington          11  "
      ]
     },
     "execution_count": 38,
     "metadata": {},
     "output_type": "execute_result"
    }
   ],
   "source": [
    "station_df = pd.read_csv('current_bluebikes_stations.csv', header=None)\n",
    "station_df = station_df.iloc[2:]\n",
    "station_df.columns = [\"Number\", \"Name\", \"Lat\", \"Long\", \"Seasonal Status\", \"Municipality\", \"Total Docks\"]\n",
    "station_df['Lat'] = pd.to_numeric(station_df['Lat'], errors='coerce').round(6)\n",
    "station_df['Long'] = pd.to_numeric(station_df['Long'], errors='coerce').round(6)\n",
    "station_df[:5]"
   ]
  },
  {
   "cell_type": "code",
   "execution_count": 42,
   "metadata": {},
   "outputs": [
    {
     "name": "stdout",
     "output_type": "stream",
     "text": [
      "14367954\n"
     ]
    }
   ],
   "source": [
    "station_bikedf1 = raw_df[['start station id', 'start station latitude', 'start station longitude']]\n",
    "station_bikedf1 = station_bikedf1.rename(columns={\n",
    "    'start station id': 'Station_ID',\n",
    "    'start station latitude': 'Lat',\n",
    "    'start station longitude': 'Long'\n",
    "})\n",
    "station_bikedf2 = raw_df[['end station id', 'end station latitude', 'end station longitude']]\n",
    "station_bikedf2 = station_bikedf1.rename(columns={\n",
    "    'end station id': 'Station_ID',\n",
    "    'end station latitude': 'Lat',\n",
    "    'end station longitude': 'Long'\n",
    "})\n",
    "station_bikedf = pd.concat([station_bikedf1, station_bikedf2], axis=0)\n",
    "station_bikedf['Lat'] = pd.to_numeric(station_bikedf['Lat'], errors='coerce').round(6)\n",
    "station_bikedf['Long'] = pd.to_numeric(station_bikedf['Long'], errors='coerce').round(6)\n",
    "print(len(station_bikedf))\n"
   ]
  },
  {
   "cell_type": "code",
   "execution_count": 43,
   "metadata": {},
   "outputs": [
    {
     "name": "stdout",
     "output_type": "stream",
     "text": [
      "14367954\n",
      "525\n"
     ]
    }
   ],
   "source": [
    "print(len(station_bikedf))\n",
    "station_bikedf = station_bikedf.drop_duplicates()\n",
    "print(len(station_bikedf))"
   ]
  },
  {
   "cell_type": "code",
   "execution_count": 23,
   "metadata": {},
   "outputs": [
    {
     "name": "stdout",
     "output_type": "stream",
     "text": [
      "Empty DataFrame\n",
      "Columns: [start station id, Lat, Long]\n",
      "Index: []\n",
      "Empty DataFrame\n",
      "Columns: [start station id, Lat, Long]\n",
      "Index: []\n",
      "Empty DataFrame\n",
      "Columns: [Number, Name, Lat, Long, Seasonal Status, Municipality, Total Docks]\n",
      "Index: []\n",
      "Empty DataFrame\n",
      "Columns: [Number, Name, Lat, Long, Seasonal Status, Municipality, Total Docks]\n",
      "Index: []\n",
      "start station id      int64\n",
      "Lat                 float64\n",
      "Long                float64\n",
      "dtype: object\n",
      "Number              object\n",
      "Name                object\n",
      "Lat                float64\n",
      "Long               float64\n",
      "Seasonal Status     object\n",
      "Municipality        object\n",
      "Total Docks         object\n",
      "dtype: object\n"
     ]
    }
   ],
   "source": [
    "print(station_bikedf[station_bikedf['Lat'].isna()])\n",
    "print(station_bikedf[station_bikedf['Long'].isna()])\n",
    "print(station_df[station_df['Lat'].isna()])\n",
    "print(station_df[station_df['Long'].isna()])\n",
    "\n",
    "print(station_bikedf.dtypes)\n",
    "print(station_df.dtypes)"
   ]
  },
  {
   "cell_type": "code",
   "execution_count": 47,
   "metadata": {},
   "outputs": [
    {
     "name": "stderr",
     "output_type": "stream",
     "text": [
      "/Users/yuzhuoran/anaconda3/lib/python3.11/site-packages/IPython/core/interactiveshell.py:3466: FutureWarning: The `op` parameter is deprecated and will be removed in a future release. Please use the `predicate` parameter instead.\n",
      "  if await self.run_code(code, result, async_=asy):\n"
     ]
    },
    {
     "data": {
      "text/html": [
       "<div>\n",
       "<style scoped>\n",
       "    .dataframe tbody tr th:only-of-type {\n",
       "        vertical-align: middle;\n",
       "    }\n",
       "\n",
       "    .dataframe tbody tr th {\n",
       "        vertical-align: top;\n",
       "    }\n",
       "\n",
       "    .dataframe thead th {\n",
       "        text-align: right;\n",
       "    }\n",
       "</style>\n",
       "<table border=\"1\" class=\"dataframe\">\n",
       "  <thead>\n",
       "    <tr style=\"text-align: right;\">\n",
       "      <th></th>\n",
       "      <th>Station_ID</th>\n",
       "      <th>Lat</th>\n",
       "      <th>Long</th>\n",
       "      <th>geometry</th>\n",
       "      <th>index_right</th>\n",
       "      <th>Number</th>\n",
       "      <th>Name</th>\n",
       "      <th>Seasonal Status</th>\n",
       "      <th>Municipality</th>\n",
       "      <th>Total Docks</th>\n",
       "    </tr>\n",
       "  </thead>\n",
       "  <tbody>\n",
       "    <tr>\n",
       "      <th>0</th>\n",
       "      <td>91</td>\n",
       "      <td>42.366277</td>\n",
       "      <td>-71.091690</td>\n",
       "      <td>POINT (-71.09169 42.36628)</td>\n",
       "      <td>286</td>\n",
       "      <td>M32002</td>\n",
       "      <td>One Kendall Square at Hampshire St / Portland St</td>\n",
       "      <td>Year Round</td>\n",
       "      <td>Cambridge</td>\n",
       "      <td>19</td>\n",
       "    </tr>\n",
       "    <tr>\n",
       "      <th>1</th>\n",
       "      <td>370</td>\n",
       "      <td>42.350961</td>\n",
       "      <td>-71.077828</td>\n",
       "      <td>POINT (-71.07783 42.35096)</td>\n",
       "      <td>184</td>\n",
       "      <td>D32045</td>\n",
       "      <td>Dartmouth St at Newbury St</td>\n",
       "      <td>Year Round</td>\n",
       "      <td>Boston</td>\n",
       "      <td>19</td>\n",
       "    </tr>\n",
       "    <tr>\n",
       "      <th>2</th>\n",
       "      <td>46</td>\n",
       "      <td>42.343666</td>\n",
       "      <td>-71.085824</td>\n",
       "      <td>POINT (-71.08582 42.34367)</td>\n",
       "      <td>47</td>\n",
       "      <td>B32005</td>\n",
       "      <td>Christian Science Plaza - Massachusetts Ave at...</td>\n",
       "      <td>Year Round</td>\n",
       "      <td>Boston</td>\n",
       "      <td>19</td>\n",
       "    </tr>\n",
       "    <tr>\n",
       "      <th>3</th>\n",
       "      <td>178</td>\n",
       "      <td>42.359573</td>\n",
       "      <td>-71.101295</td>\n",
       "      <td>POINT (-71.10129 42.35957)</td>\n",
       "      <td>321</td>\n",
       "      <td>M32041</td>\n",
       "      <td>MIT Pacific St at Purrington St</td>\n",
       "      <td>Year Round</td>\n",
       "      <td>Cambridge</td>\n",
       "      <td>19</td>\n",
       "    </tr>\n",
       "    <tr>\n",
       "      <th>4</th>\n",
       "      <td>386</td>\n",
       "      <td>42.368605</td>\n",
       "      <td>-71.099302</td>\n",
       "      <td>POINT (-71.09930 42.36861)</td>\n",
       "      <td>343</td>\n",
       "      <td>M32063</td>\n",
       "      <td>Sennott Park Broadway at Norfolk Street</td>\n",
       "      <td>Year Round</td>\n",
       "      <td>Cambridge</td>\n",
       "      <td>19</td>\n",
       "    </tr>\n",
       "  </tbody>\n",
       "</table>\n",
       "</div>"
      ],
      "text/plain": [
       "   Station_ID        Lat       Long                    geometry  index_right  \\\n",
       "0          91  42.366277 -71.091690  POINT (-71.09169 42.36628)          286   \n",
       "1         370  42.350961 -71.077828  POINT (-71.07783 42.35096)          184   \n",
       "2          46  42.343666 -71.085824  POINT (-71.08582 42.34367)           47   \n",
       "3         178  42.359573 -71.101295  POINT (-71.10129 42.35957)          321   \n",
       "4         386  42.368605 -71.099302  POINT (-71.09930 42.36861)          343   \n",
       "\n",
       "   Number                                               Name Seasonal Status  \\\n",
       "0  M32002   One Kendall Square at Hampshire St / Portland St      Year Round   \n",
       "1  D32045                         Dartmouth St at Newbury St      Year Round   \n",
       "2  B32005  Christian Science Plaza - Massachusetts Ave at...      Year Round   \n",
       "3  M32041                    MIT Pacific St at Purrington St      Year Round   \n",
       "4  M32063            Sennott Park Broadway at Norfolk Street      Year Round   \n",
       "\n",
       "  Municipality Total Docks  \n",
       "0    Cambridge          19  \n",
       "1       Boston          19  \n",
       "2       Boston          19  \n",
       "3    Cambridge          19  \n",
       "4    Cambridge          19  "
      ]
     },
     "execution_count": 47,
     "metadata": {},
     "output_type": "execute_result"
    }
   ],
   "source": [
    "import geopandas\n",
    "from shapely.geometry import Point\n",
    "\n",
    "station_bikedf['geometry'] = station_bikedf.apply(lambda x: Point((x['Long'], x['Lat'])), axis=1)\n",
    "station_df['geometry'] = station_df.apply(lambda x: Point((x['Long'], x['Lat'])), axis=1)\n",
    "\n",
    "gdf_bike = geopandas.GeoDataFrame(station_bikedf, geometry='geometry')\n",
    "gdf_station = geopandas.GeoDataFrame(station_df, geometry='geometry')\n",
    "\n",
    "merged_gdf = geopandas.sjoin(gdf_bike, gdf_station, how=\"inner\", op='intersects')\n",
    "\n",
    "merged_gdf = merged_gdf.drop(columns=['Lat_right', 'Long_right'])\n",
    "merged_gdf = merged_gdf.rename(columns={\n",
    "    'Lat_left': 'Lat',\n",
    "    'Long_left': 'Long'\n",
    "})\n",
    "merged_gdf[:5]"
   ]
  },
  {
   "cell_type": "code",
   "execution_count": 48,
   "metadata": {},
   "outputs": [
    {
     "name": "stdout",
     "output_type": "stream",
     "text": [
      "434\n"
     ]
    }
   ],
   "source": [
    "print(len(merged_gdf))"
   ]
  },
  {
   "cell_type": "code",
   "execution_count": 49,
   "metadata": {},
   "outputs": [],
   "source": [
    "merged_gdf.to_csv('Merged_Station.csv')"
   ]
  }
 ],
 "metadata": {
  "kernelspec": {
   "display_name": "base",
   "language": "python",
   "name": "python3"
  },
  "language_info": {
   "codemirror_mode": {
    "name": "ipython",
    "version": 3
   },
   "file_extension": ".py",
   "mimetype": "text/x-python",
   "name": "python",
   "nbconvert_exporter": "python",
   "pygments_lexer": "ipython3",
   "version": "3.11.5"
  }
 },
 "nbformat": 4,
 "nbformat_minor": 2
}
