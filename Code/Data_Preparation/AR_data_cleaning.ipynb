{
 "cells": [
  {
   "cell_type": "code",
   "execution_count": 81,
   "id": "0366eeba-f66a-46d0-814a-16b88d8f47ae",
   "metadata": {},
   "outputs": [],
   "source": [
    "import pandas as pd"
   ]
  },
  {
   "cell_type": "code",
   "execution_count": 82,
   "id": "80f32b3c-c2e0-452f-8589-f208c1b44827",
   "metadata": {},
   "outputs": [],
   "source": [
    "df = pd.read_csv('Merged_Data_202101_202303_v3.csv').drop(columns=['Unnamed: 0', 'feels_like'], axis = 1)"
   ]
  },
  {
   "cell_type": "code",
   "execution_count": 83,
   "id": "f88cb622-69fa-45bd-9beb-afb5f23699eb",
   "metadata": {},
   "outputs": [],
   "source": [
    "station = sorted(df['station_id'].unique())"
   ]
  },
  {
   "cell_type": "code",
   "execution_count": 84,
   "id": "79995380-1a6e-48fd-9fd5-0caa19949f24",
   "metadata": {},
   "outputs": [],
   "source": [
    "# Kick the data after '2023-03-31 23:00:00'\n",
    "\n",
    "df['Hour'] = pd.to_datetime(df['Hour'])\n",
    "df = df[df['Hour'] <= '2023-03-31 23:00:00']"
   ]
  },
  {
   "cell_type": "code",
   "execution_count": 88,
   "id": "fd99e497-7e30-48df-aba4-f4d77d9e249a",
   "metadata": {},
   "outputs": [],
   "source": [
    "# Start and end\n",
    "start_date = '2021-01-01 00:00:00'\n",
    "end_date = '2023-03-31 23:00:00'\n",
    "\n",
    "# Create a complete timestamp\n",
    "date_range = pd.date_range(start=start_date, end=end_date, freq='h')\n",
    "\n",
    "# Initial a new Dataframe\n",
    "complete_data = pd.DataFrame()\n",
    "\n",
    "for station_id in station:\n",
    "    # Create a DataFrame for this station\n",
    "    df_station = pd.DataFrame(date_range, columns=['Hour'])\n",
    "    df_station['station_id'] = station_id\n",
    "    \n",
    "    # Assign 0 to 'Net_Flow', assume no flow initially\n",
    "    df_station['Net_Flow'] = 0\n",
    "    \n",
    "    # Append the data for this station to the complete DataFrame\n",
    "    complete_data = pd.concat([complete_data, df_station])\n",
    "\n",
    "complete_data.reset_index(drop=True, inplace=True)"
   ]
  },
  {
   "cell_type": "code",
   "execution_count": 89,
   "id": "027eb33e-1371-4e4b-942e-07fad5c3f43b",
   "metadata": {},
   "outputs": [
    {
     "name": "stdout",
     "output_type": "stream",
     "text": [
      "                 Hour  station_id  Net_Flow\n",
      "0 2021-01-01 00:00:00           1       0.0\n",
      "1 2021-01-01 01:00:00           1       0.0\n",
      "2 2021-01-01 02:00:00           1       0.0\n",
      "3 2021-01-01 03:00:00           1       0.0\n",
      "4 2021-01-01 04:00:00           1       0.0\n"
     ]
    }
   ],
   "source": [
    "complete_data = pd.merge(complete_data, df[['Hour', 'station_id', 'Net_Flow']],\n",
    "                          on=['Hour', 'station_id'], how='left', suffixes=('', '_orig'))\n",
    "\n",
    "complete_data['Net_Flow'] = complete_data['Net_Flow_orig'].fillna(complete_data['Net_Flow'])\n",
    "complete_data.drop(columns=['Net_Flow_orig'], inplace=True)\n",
    "\n",
    "print(complete_data.head())"
   ]
  },
  {
   "cell_type": "code",
   "execution_count": 90,
   "id": "d471ee0d-2c2b-46c7-bf77-ade54146feac",
   "metadata": {},
   "outputs": [],
   "source": [
    "complete_data.to_csv('ar_data.csv', index = False)"
   ]
  }
 ],
 "metadata": {
  "kernelspec": {
   "display_name": "Python 3 (ipykernel)",
   "language": "python",
   "name": "python3"
  },
  "language_info": {
   "codemirror_mode": {
    "name": "ipython",
    "version": 3
   },
   "file_extension": ".py",
   "mimetype": "text/x-python",
   "name": "python",
   "nbconvert_exporter": "python",
   "pygments_lexer": "ipython3",
   "version": "3.9.18"
  }
 },
 "nbformat": 4,
 "nbformat_minor": 5
}
