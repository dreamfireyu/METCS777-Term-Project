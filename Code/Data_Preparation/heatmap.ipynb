{
 "cells": [
  {
   "cell_type": "code",
   "execution_count": null,
   "id": "e817fdfc-6116-4bfb-8793-7d00a4b9ce1d",
   "metadata": {},
   "outputs": [],
   "source": [
    "import pandas as pd\n",
    "import glob\n",
    "import os\n",
    "import folium\n",
    "from folium.plugins import HeatMapWithTime"
   ]
  },
  {
   "cell_type": "code",
   "execution_count": null,
   "id": "d4337866-a577-4217-8677-9ea1ef588213",
   "metadata": {},
   "outputs": [],
   "source": [
    "current_path = os.getcwd()\n",
    "\n",
    "file_pattern = os.path.join(current_path, '*.csv')\n",
    "file_list = glob.glob(file_pattern)\n",
    "\n",
    "df = pd.concat((pd.read_csv(f) for f in file_list), ignore_index=True)"
   ]
  },
  {
   "cell_type": "code",
   "execution_count": null,
   "id": "ef2ec132-643b-40c3-8b7d-883a562a4cda",
   "metadata": {},
   "outputs": [],
   "source": [
    "df['starttime'] = pd.to_datetime(df['starttime'])\n",
    "df['year'] = df['starttime'].dt.year\n",
    "df['month'] = df['starttime'].dt.month\n",
    "\n",
    "grouped = df.groupby(['year', 'month', 'start station latitude', 'start station longitude']).size().reset_index(name='counts')\n",
    "\n",
    "heatmap_data = []\n",
    "for (year, month), group in grouped.groupby(['year', 'month']):\n",
    "    monthly_data = group[['start station latitude', 'start station longitude', 'counts']].values.tolist()\n",
    "    heatmap_data.append(monthly_data)\n",
    "\n",
    "map = folium.Map(location=[42.3601, -71.0589], zoom_start=13)\n",
    "\n",
    "HeatMapWithTime(heatmap_data).add_to(map)\n",
    "\n",
    "map.save('Boston_Bike_Share_Heatmap.html')"
   ]
  },
  {
   "cell_type": "code",
   "execution_count": null,
   "id": "6878e574-c9fb-4017-a397-58f7378d0454",
   "metadata": {},
   "outputs": [],
   "source": []
  }
 ],
 "metadata": {
  "kernelspec": {
   "display_name": "Python 3 (ipykernel)",
   "language": "python",
   "name": "python3"
  },
  "language_info": {
   "codemirror_mode": {
    "name": "ipython",
    "version": 3
   },
   "file_extension": ".py",
   "mimetype": "text/x-python",
   "name": "python",
   "nbconvert_exporter": "python",
   "pygments_lexer": "ipython3",
   "version": "3.9.18"
  }
 },
 "nbformat": 4,
 "nbformat_minor": 5
}
